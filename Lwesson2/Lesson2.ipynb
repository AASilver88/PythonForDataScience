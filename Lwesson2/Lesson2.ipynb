{
  "nbformat": 4,
  "nbformat_minor": 0,
  "metadata": {
    "colab": {
      "provenance": []
    },
    "kernelspec": {
      "name": "python3",
      "display_name": "Python 3"
    },
    "language_info": {
      "name": "python"
    }
  },
  "cells": [
    {
      "cell_type": "markdown",
      "source": [
        "Тема “Вычисления с помощью Numpy”\n",
        "Задание 1\n",
        "Создайте массив Numpy под названием a размером 5x2, то есть состоящий из 5 строк\n",
        "и 2 столбцов. Первый столбец должен содержать числа 1, 2, 3, 3, 1, а второй - числа 6,\n",
        "8, 11, 10, 7. Будем считать, что каждый столбец - это признак, а строка - наблюдение.\n",
        "Затем найдите среднее значение по каждому признаку, используя метод mean массива\n",
        "Numpy. Результат запишите в массив mean_a, в нем должно быть 2 элемента."
      ],
      "metadata": {
        "id": "23ys8gDzrqXq"
      }
    },
    {
      "cell_type": "code",
      "source": [
        "import numpy as np\n",
        "\n",
        "a = np.array([[1, 6],\n",
        "              [2, 8],\n",
        "              [3, 11],\n",
        "              [3, 10],\n",
        "              [1, 7]])\n",
        "\n",
        "# Найти среднее значение по каждому признаку\n",
        "mean_a = np.mean(a, axis=0)\n",
        "\n",
        "print(mean_a)"
      ],
      "metadata": {
        "colab": {
          "base_uri": "https://localhost:8080/"
        },
        "id": "pMWMLo5WrtLw",
        "outputId": "e1e666e4-d33d-4eac-d4d3-ccb74b7edfa0"
      },
      "execution_count": 1,
      "outputs": [
        {
          "output_type": "stream",
          "name": "stdout",
          "text": [
            "[2.  8.4]\n"
          ]
        }
      ]
    },
    {
      "cell_type": "markdown",
      "source": [
        "Задание 2\n",
        "Вычислите массив a_centered, отняв от значений массива “а” средние значения\n",
        "соответствующих признаков, содержащиеся в массиве mean_a. Вычисление должно\n",
        "производиться в одно действие. Получившийся массив должен иметь размер 5x2.\n"
      ],
      "metadata": {
        "id": "_HD3H2vTr7OX"
      }
    },
    {
      "cell_type": "code",
      "source": [
        "a_centered = a - mean_a\n",
        "\n",
        "print(a_centered)"
      ],
      "metadata": {
        "colab": {
          "base_uri": "https://localhost:8080/"
        },
        "id": "UdjswQDcr772",
        "outputId": "9682b232-3e5f-4509-b63c-cd9627994de6"
      },
      "execution_count": 2,
      "outputs": [
        {
          "output_type": "stream",
          "name": "stdout",
          "text": [
            "[[-1.  -2.4]\n",
            " [ 0.  -0.4]\n",
            " [ 1.   2.6]\n",
            " [ 1.   1.6]\n",
            " [-1.  -1.4]]\n"
          ]
        }
      ]
    },
    {
      "cell_type": "markdown",
      "source": [
        "Задание 3\n",
        "Найдите скалярное произведение столбцов массива a_centered. В результате должна\n",
        "получиться величина _centered_spa. Затем поделите a_centered_sp на N-1, где N - число\n",
        "наблюдений."
      ],
      "metadata": {
        "id": "njVMUlp6sL5u"
      }
    },
    {
      "cell_type": "code",
      "source": [],
      "metadata": {
        "id": "f1UiofE2sMkI"
      },
      "execution_count": null,
      "outputs": []
    },
    {
      "cell_type": "code",
      "source": [
        "# Вычислить скалярное произведение столбцов массива a_centered\n",
        "a_centered_sp = np.dot(a_centered[:, 0], a_centered[:, 1])\n",
        "\n",
        "# Поделить на N-1, где N - число наблюдений\n",
        "N = a_centered.shape[0]\n",
        "a_centered_sp /= (N - 1)\n",
        "\n",
        "print(a_centered_sp)"
      ],
      "metadata": {
        "colab": {
          "base_uri": "https://localhost:8080/"
        },
        "id": "jnaiVg4nsO_I",
        "outputId": "b7a6e9b8-b0d6-4993-d4f4-cea0d64fd071"
      },
      "execution_count": 3,
      "outputs": [
        {
          "output_type": "stream",
          "name": "stdout",
          "text": [
            "2.0\n"
          ]
        }
      ]
    },
    {
      "cell_type": "markdown",
      "source": [
        "Тема “Работа с данными в Pandas”\n",
        "Задание 1\n",
        "Импортируйте библиотеку Pandas и дайте ей псевдоним pd. Создайте датафрейм authors со\n",
        "столбцами author_id и author_name, в которых соответственно содержатся данные: [1, 2, 3] и\n",
        "['Тургенев', 'Чехов', 'Островский'].\n",
        "Затем создайте датафрейм book cо столбцами author_id, book_title и price, в которых соответственно\n",
        "содержатся данные:\n",
        "[1, 1, 1, 2, 2, 3, 3],\n",
        "['Отцы и дети', 'Рудин', 'Дворянское гнездо', 'Толстый и тонкий', 'Дама с собачкой', 'Гроза', 'Таланты и\n",
        "поклонники']\n",
        "Нужны prices!\n",
        "[500, 400, 300, 350, 450, 600, 200]"
      ],
      "metadata": {
        "id": "B5HuPcA7sW2A"
      }
    },
    {
      "cell_type": "code",
      "source": [
        "import pandas as pd\n",
        "\n",
        "# Создать датафрейм authors\n",
        "authors = pd.DataFrame({\n",
        "    \"author_id\": [1, 2, 3],\n",
        "    \"author_name\": [\"Тургенев\", \"Чехов\", \"Островский\"]\n",
        "})\n",
        "\n",
        "# Создать датафрейм books\n",
        "books = pd.DataFrame({\n",
        "    \"author_id\": [1, 1, 1, 2, 2, 3, 3],\n",
        "    \"book_title\": [\"Отцы и дети\", \"Рудин\", \"Дворянское гнездо\", \"Толстый и тонкий\", \"Дама с собачкой\", \"Гроза\", \"Таланты и поклонники\"],\n",
        "    \"price\": [500, 400, 300, 350, 450, 600, 200]\n",
        "})\n",
        "\n",
        "# Вывести датафреймы\n",
        "print(\"Датафрейм authors:\")\n",
        "print(authors)\n",
        "print(\"\\nДатафрейм books:\")\n",
        "print(books)"
      ],
      "metadata": {
        "colab": {
          "base_uri": "https://localhost:8080/"
        },
        "id": "CrTB9EwLsq3J",
        "outputId": "e922a6ed-30ec-4826-d5e0-42680ece965e"
      },
      "execution_count": 4,
      "outputs": [
        {
          "output_type": "stream",
          "name": "stdout",
          "text": [
            "Датафрейм authors:\n",
            "   author_id author_name\n",
            "0          1    Тургенев\n",
            "1          2       Чехов\n",
            "2          3  Островский\n",
            "\n",
            "Датафрейм books:\n",
            "   author_id            book_title  price\n",
            "0          1           Отцы и дети    500\n",
            "1          1                 Рудин    400\n",
            "2          1     Дворянское гнездо    300\n",
            "3          2      Толстый и тонкий    350\n",
            "4          2       Дама с собачкой    450\n",
            "5          3                 Гроза    600\n",
            "6          3  Таланты и поклонники    200\n"
          ]
        }
      ]
    },
    {
      "cell_type": "markdown",
      "source": [
        "Задание 2\n",
        "Получите датафрейм authors_price, соединив дата фреймы authors и books по полю author_id.\n"
      ],
      "metadata": {
        "id": "YoboffvQstFZ"
      }
    },
    {
      "cell_type": "code",
      "source": [
        "# Объединить датафреймы по полю author_id\n",
        "authors_price = pd.merge(authors, books, on=\"author_id\")\n",
        "\n",
        "# Вывести объединенный датафрейм\n",
        "print(authors_price)"
      ],
      "metadata": {
        "colab": {
          "base_uri": "https://localhost:8080/"
        },
        "id": "nrO0-8BrsvH6",
        "outputId": "8a0043ea-5ab1-4a00-f876-72e17b9553ff"
      },
      "execution_count": 5,
      "outputs": [
        {
          "output_type": "stream",
          "name": "stdout",
          "text": [
            "   author_id author_name            book_title  price\n",
            "0          1    Тургенев           Отцы и дети    500\n",
            "1          1    Тургенев                 Рудин    400\n",
            "2          1    Тургенев     Дворянское гнездо    300\n",
            "3          2       Чехов      Толстый и тонкий    350\n",
            "4          2       Чехов       Дама с собачкой    450\n",
            "5          3  Островский                 Гроза    600\n",
            "6          3  Островский  Таланты и поклонники    200\n"
          ]
        }
      ]
    },
    {
      "cell_type": "markdown",
      "source": [
        "Задание 3\n",
        "Создайте датафрейм top5, в котором содержатся строки из authors_price с пятью самыми дорогими\n",
        "книгами."
      ],
      "metadata": {
        "id": "X_tw-i2es6O6"
      }
    },
    {
      "cell_type": "code",
      "source": [
        "# Отсортировать датафрейм по цене в порядке убывания\n",
        "authors_price = authors_price.sort_values(by=\"price\", ascending=False)\n",
        "\n",
        "# Выбрать пять самых дорогих книг\n",
        "top5 = authors_price.head(5)\n",
        "\n",
        "# Вывести датафрейм top5\n",
        "print(top5)"
      ],
      "metadata": {
        "colab": {
          "base_uri": "https://localhost:8080/"
        },
        "id": "HDG2RRW8s9-7",
        "outputId": "b251ed47-e21c-4f1f-852d-80ad53c84b73"
      },
      "execution_count": 6,
      "outputs": [
        {
          "output_type": "stream",
          "name": "stdout",
          "text": [
            "   author_id author_name        book_title  price\n",
            "5          3  Островский             Гроза    600\n",
            "0          1    Тургенев       Отцы и дети    500\n",
            "4          2       Чехов   Дама с собачкой    450\n",
            "1          1    Тургенев             Рудин    400\n",
            "3          2       Чехов  Толстый и тонкий    350\n"
          ]
        }
      ]
    },
    {
      "cell_type": "markdown",
      "source": [
        "Задание 4\n",
        "Создайте датафрейм authors_stat на основе информации из authors_price. В датафрейме authors_stat\n",
        "должны быть четыре столбца:\n",
        "author_name, min_price, max_price и mean_price,\n",
        "в которых должны содержаться соответственно имя автора, минимальная, максимальная и средняя\n",
        "цена на книги этого автора.\n"
      ],
      "metadata": {
        "id": "mp655kH7tLBk"
      }
    },
    {
      "cell_type": "code",
      "source": [
        "# Сгруппировать данные по имени автора и вычислить статистику для каждого автора\n",
        "authors_stat = authors_price.groupby(\"author_name\").agg({\"price\": [\"min\", \"max\", \"mean\"]})\n",
        "\n",
        "# Удалить уровень индекса и переименовать столбцы\n",
        "authors_stat.columns = authors_stat.columns.droplevel()\n",
        "authors_stat.columns = [\"min_price\", \"max_price\", \"mean_price\"]\n",
        "\n",
        "# Вывести датафрейм authors_stat\n",
        "print(authors_stat)"
      ],
      "metadata": {
        "colab": {
          "base_uri": "https://localhost:8080/"
        },
        "id": "EchRg9nLtOu0",
        "outputId": "dd8aefde-20ef-4dd3-c6da-5379ad6fd630"
      },
      "execution_count": 7,
      "outputs": [
        {
          "output_type": "stream",
          "name": "stdout",
          "text": [
            "             min_price  max_price  mean_price\n",
            "author_name                                  \n",
            "Островский         200        600       400.0\n",
            "Тургенев           300        500       400.0\n",
            "Чехов              350        450       400.0\n"
          ]
        }
      ]
    }
  ]
}